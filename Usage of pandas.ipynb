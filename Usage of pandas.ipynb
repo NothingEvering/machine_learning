{
 "cells": [
  {
   "cell_type": "markdown",
   "id": "0d7f012f",
   "metadata": {},
   "source": [
    "# pandas使用教程  1.增删改查"
   ]
  },
  {
   "cell_type": "markdown",
   "id": "79db0152",
   "metadata": {},
   "source": [
    "pandas简介：pandas包含了数据结构和数据操作工具，\n",
    "旨在使得在Python中进行数据清理和分析变得快速且便捷。\n",
    "pandas通常与数值计算工具如NumPy和SciPy、分析库如scikit-learn，以及数据可视化库如matplotlib一起使用。"
   ]
  },
  {
   "cell_type": "markdown",
   "id": "e122ed39",
   "metadata": {},
   "source": [
    "要使用pandas库，首先需要导入Pandas库"
   ]
  },
  {
   "cell_type": "code",
   "execution_count": 1,
   "id": "4e639102",
   "metadata": {},
   "outputs": [],
   "source": [
    "import pandas as pd\n",
    "import numpy as np"
   ]
  },
  {
   "cell_type": "code",
   "execution_count": 2,
   "id": "175b71ac",
   "metadata": {},
   "outputs": [],
   "source": [
    "#import pandas as pd #以后每当使用Pandas库里的函数时都需要先声明pandas，我们在这里将其重命名为pd以方便后续的coding"
   ]
  },
  {
   "cell_type": "markdown",
   "id": "22e6f095",
   "metadata": {},
   "source": [
    "pandas 有两个核心对象，一个叫Dataframe，一个叫Series,它们将为解决各式各样的数据任务提供坚实的基础。因此，我们还可以这样来导入pandas库："
   ]
  },
  {
   "cell_type": "code",
   "execution_count": 3,
   "id": "67c825cf",
   "metadata": {},
   "outputs": [],
   "source": [
    "from pandas import Series, DataFrame"
   ]
  },
  {
   "cell_type": "markdown",
   "id": "06b3dd02",
   "metadata": {},
   "source": [
    "## dataframe：一种表格"
   ]
  },
  {
   "cell_type": "markdown",
   "id": "0dc553c6",
   "metadata": {},
   "source": [
    "DataFrame 表示一个矩形数据表，包含一个有序的、命名的列集合，每个列可以是不同的值类型(数值、字符串、布尔值等)，同时具有行索引和列索引"
   ]
  },
  {
   "cell_type": "code",
   "execution_count": 4,
   "id": "8d1ac847",
   "metadata": {},
   "outputs": [
    {
     "data": {
      "text/html": [
       "<div>\n",
       "<style scoped>\n",
       "    .dataframe tbody tr th:only-of-type {\n",
       "        vertical-align: middle;\n",
       "    }\n",
       "\n",
       "    .dataframe tbody tr th {\n",
       "        vertical-align: top;\n",
       "    }\n",
       "\n",
       "    .dataframe thead th {\n",
       "        text-align: right;\n",
       "    }\n",
       "</style>\n",
       "<table border=\"1\" class=\"dataframe\">\n",
       "  <thead>\n",
       "    <tr style=\"text-align: right;\">\n",
       "      <th></th>\n",
       "      <th>Yes</th>\n",
       "      <th>No</th>\n",
       "    </tr>\n",
       "  </thead>\n",
       "  <tbody>\n",
       "    <tr>\n",
       "      <th>0</th>\n",
       "      <td>50</td>\n",
       "      <td>131</td>\n",
       "    </tr>\n",
       "    <tr>\n",
       "      <th>1</th>\n",
       "      <td>21</td>\n",
       "      <td>2</td>\n",
       "    </tr>\n",
       "  </tbody>\n",
       "</table>\n",
       "</div>"
      ],
      "text/plain": [
       "   Yes   No\n",
       "0   50  131\n",
       "1   21    2"
      ]
     },
     "execution_count": 4,
     "metadata": {},
     "output_type": "execute_result"
    }
   ],
   "source": [
    "pd.DataFrame({'Yes': [50, 21], 'No': [131, 2]})"
   ]
  },
  {
   "cell_type": "markdown",
   "id": "9bf01ccc",
   "metadata": {},
   "source": [
    "在本例中，“0，No”条目的值为131。“0，Yes”条目的值为50，以此类推。"
   ]
  },
  {
   "cell_type": "code",
   "execution_count": 5,
   "id": "378ba662",
   "metadata": {},
   "outputs": [
    {
     "data": {
      "text/html": [
       "<div>\n",
       "<style scoped>\n",
       "    .dataframe tbody tr th:only-of-type {\n",
       "        vertical-align: middle;\n",
       "    }\n",
       "\n",
       "    .dataframe tbody tr th {\n",
       "        vertical-align: top;\n",
       "    }\n",
       "\n",
       "    .dataframe thead th {\n",
       "        text-align: right;\n",
       "    }\n",
       "</style>\n",
       "<table border=\"1\" class=\"dataframe\">\n",
       "  <thead>\n",
       "    <tr style=\"text-align: right;\">\n",
       "      <th></th>\n",
       "      <th>state</th>\n",
       "      <th>year</th>\n",
       "      <th>pop</th>\n",
       "    </tr>\n",
       "  </thead>\n",
       "  <tbody>\n",
       "    <tr>\n",
       "      <th>0</th>\n",
       "      <td>Ohio</td>\n",
       "      <td>2000</td>\n",
       "      <td>1.5</td>\n",
       "    </tr>\n",
       "    <tr>\n",
       "      <th>1</th>\n",
       "      <td>Ohio</td>\n",
       "      <td>2001</td>\n",
       "      <td>1.7</td>\n",
       "    </tr>\n",
       "    <tr>\n",
       "      <th>2</th>\n",
       "      <td>Ohio</td>\n",
       "      <td>2002</td>\n",
       "      <td>3.6</td>\n",
       "    </tr>\n",
       "    <tr>\n",
       "      <th>3</th>\n",
       "      <td>Nevada</td>\n",
       "      <td>2001</td>\n",
       "      <td>2.4</td>\n",
       "    </tr>\n",
       "    <tr>\n",
       "      <th>4</th>\n",
       "      <td>Nevada</td>\n",
       "      <td>2002</td>\n",
       "      <td>2.9</td>\n",
       "    </tr>\n",
       "    <tr>\n",
       "      <th>5</th>\n",
       "      <td>Nevada</td>\n",
       "      <td>2003</td>\n",
       "      <td>3.2</td>\n",
       "    </tr>\n",
       "  </tbody>\n",
       "</table>\n",
       "</div>"
      ],
      "text/plain": [
       "    state  year  pop\n",
       "0    Ohio  2000  1.5\n",
       "1    Ohio  2001  1.7\n",
       "2    Ohio  2002  3.6\n",
       "3  Nevada  2001  2.4\n",
       "4  Nevada  2002  2.9\n",
       "5  Nevada  2003  3.2"
      ]
     },
     "execution_count": 5,
     "metadata": {},
     "output_type": "execute_result"
    }
   ],
   "source": [
    "data = {\"state\": [\"Ohio\", \"Ohio\", \"Ohio\", \"Nevada\", \"Nevada\", \"Nevada\"],\n",
    "        \"year\": [2000, 2001, 2002, 2001, 2002, 2003],\n",
    "        \"pop\": [1.5, 1.7, 3.6, 2.4, 2.9, 3.2]}\n",
    "frame = pd.DataFrame(data)\n",
    "frame"
   ]
  },
  {
   "cell_type": "markdown",
   "id": "b5156dbb",
   "metadata": {},
   "source": [
    "看到最左边的数列了吗？它是一个从0开始的升序列表[0,1,2,3…]，这是pandas默认生成的，当我们想自己定义这一列时，通过index来修改："
   ]
  },
  {
   "cell_type": "code",
   "execution_count": 6,
   "id": "2d461f81",
   "metadata": {},
   "outputs": [
    {
     "data": {
      "text/html": [
       "<div>\n",
       "<style scoped>\n",
       "    .dataframe tbody tr th:only-of-type {\n",
       "        vertical-align: middle;\n",
       "    }\n",
       "\n",
       "    .dataframe tbody tr th {\n",
       "        vertical-align: top;\n",
       "    }\n",
       "\n",
       "    .dataframe thead th {\n",
       "        text-align: right;\n",
       "    }\n",
       "</style>\n",
       "<table border=\"1\" class=\"dataframe\">\n",
       "  <thead>\n",
       "    <tr style=\"text-align: right;\">\n",
       "      <th></th>\n",
       "      <th>Bob</th>\n",
       "      <th>Sue</th>\n",
       "      <th>July</th>\n",
       "    </tr>\n",
       "  </thead>\n",
       "  <tbody>\n",
       "    <tr>\n",
       "      <th>Product A</th>\n",
       "      <td>I liked it.</td>\n",
       "      <td>Pretty good.</td>\n",
       "      <td>Awsome!</td>\n",
       "    </tr>\n",
       "    <tr>\n",
       "      <th>Product B</th>\n",
       "      <td>It was awful.</td>\n",
       "      <td>Bland.</td>\n",
       "      <td>Just so so.</td>\n",
       "    </tr>\n",
       "  </tbody>\n",
       "</table>\n",
       "</div>"
      ],
      "text/plain": [
       "                     Bob           Sue         July\n",
       "Product A    I liked it.  Pretty good.      Awsome!\n",
       "Product B  It was awful.        Bland.  Just so so."
      ]
     },
     "execution_count": 6,
     "metadata": {},
     "output_type": "execute_result"
    }
   ],
   "source": [
    "intro = pd.DataFrame({'Bob': ['I liked it.', 'It was awful.'], \n",
    "                      'Sue': ['Pretty good.', 'Bland.'],\n",
    "                      'July':['Awsome!','Just so so.']},\n",
    "index=['Product A', 'Product B'])\n",
    "intro"
   ]
  },
  {
   "cell_type": "markdown",
   "id": "a2600a93",
   "metadata": {},
   "source": [
    "怎么修改列名呢？比如将上表的\"Bob\"改为\"Mike\":"
   ]
  },
  {
   "cell_type": "code",
   "execution_count": 7,
   "id": "0408c31f",
   "metadata": {},
   "outputs": [
    {
     "data": {
      "text/html": [
       "<div>\n",
       "<style scoped>\n",
       "    .dataframe tbody tr th:only-of-type {\n",
       "        vertical-align: middle;\n",
       "    }\n",
       "\n",
       "    .dataframe tbody tr th {\n",
       "        vertical-align: top;\n",
       "    }\n",
       "\n",
       "    .dataframe thead th {\n",
       "        text-align: right;\n",
       "    }\n",
       "</style>\n",
       "<table border=\"1\" class=\"dataframe\">\n",
       "  <thead>\n",
       "    <tr style=\"text-align: right;\">\n",
       "      <th></th>\n",
       "      <th>Mike</th>\n",
       "      <th>Sue</th>\n",
       "      <th>July</th>\n",
       "    </tr>\n",
       "  </thead>\n",
       "  <tbody>\n",
       "    <tr>\n",
       "      <th>Product A</th>\n",
       "      <td>I liked it.</td>\n",
       "      <td>Pretty good.</td>\n",
       "      <td>Awsome!</td>\n",
       "    </tr>\n",
       "    <tr>\n",
       "      <th>Product B</th>\n",
       "      <td>It was awful.</td>\n",
       "      <td>Bland.</td>\n",
       "      <td>Just so so.</td>\n",
       "    </tr>\n",
       "  </tbody>\n",
       "</table>\n",
       "</div>"
      ],
      "text/plain": [
       "                    Mike           Sue         July\n",
       "Product A    I liked it.  Pretty good.      Awsome!\n",
       "Product B  It was awful.        Bland.  Just so so."
      ]
     },
     "execution_count": 7,
     "metadata": {},
     "output_type": "execute_result"
    }
   ],
   "source": [
    "intro.rename(columns={'Bob':'Mike'})"
   ]
  },
  {
   "cell_type": "markdown",
   "id": "750a3ec4",
   "metadata": {},
   "source": [
    "要是所有的列名都得改的话，一个一个改会很麻烦（可以用循环），在这里我们提供另外一种方式来修改："
   ]
  },
  {
   "cell_type": "code",
   "execution_count": 8,
   "id": "cca44043",
   "metadata": {},
   "outputs": [
    {
     "data": {
      "text/html": [
       "<div>\n",
       "<style scoped>\n",
       "    .dataframe tbody tr th:only-of-type {\n",
       "        vertical-align: middle;\n",
       "    }\n",
       "\n",
       "    .dataframe tbody tr th {\n",
       "        vertical-align: top;\n",
       "    }\n",
       "\n",
       "    .dataframe thead th {\n",
       "        text-align: right;\n",
       "    }\n",
       "</style>\n",
       "<table border=\"1\" class=\"dataframe\">\n",
       "  <thead>\n",
       "    <tr style=\"text-align: right;\">\n",
       "      <th></th>\n",
       "      <th>p1</th>\n",
       "      <th>p2</th>\n",
       "      <th>p3</th>\n",
       "    </tr>\n",
       "  </thead>\n",
       "  <tbody>\n",
       "    <tr>\n",
       "      <th>Product A</th>\n",
       "      <td>I liked it.</td>\n",
       "      <td>Pretty good.</td>\n",
       "      <td>Awsome!</td>\n",
       "    </tr>\n",
       "    <tr>\n",
       "      <th>Product B</th>\n",
       "      <td>It was awful.</td>\n",
       "      <td>Bland.</td>\n",
       "      <td>Just so so.</td>\n",
       "    </tr>\n",
       "  </tbody>\n",
       "</table>\n",
       "</div>"
      ],
      "text/plain": [
       "                      p1            p2           p3\n",
       "Product A    I liked it.  Pretty good.      Awsome!\n",
       "Product B  It was awful.        Bland.  Just so so."
      ]
     },
     "execution_count": 8,
     "metadata": {},
     "output_type": "execute_result"
    }
   ],
   "source": [
    "intro.columns = ['p1','p2','p3']#注意这里一定要都写，比如原来有3列，这里就得重写三个列名，否则会报错\n",
    "intro"
   ]
  },
  {
   "cell_type": "markdown",
   "id": "52844834",
   "metadata": {},
   "source": [
    "修改列的排序"
   ]
  },
  {
   "cell_type": "code",
   "execution_count": 9,
   "id": "b9de988e",
   "metadata": {},
   "outputs": [
    {
     "data": {
      "text/html": [
       "<div>\n",
       "<style scoped>\n",
       "    .dataframe tbody tr th:only-of-type {\n",
       "        vertical-align: middle;\n",
       "    }\n",
       "\n",
       "    .dataframe tbody tr th {\n",
       "        vertical-align: top;\n",
       "    }\n",
       "\n",
       "    .dataframe thead th {\n",
       "        text-align: right;\n",
       "    }\n",
       "</style>\n",
       "<table border=\"1\" class=\"dataframe\">\n",
       "  <thead>\n",
       "    <tr style=\"text-align: right;\">\n",
       "      <th></th>\n",
       "      <th>p3</th>\n",
       "      <th>p2</th>\n",
       "      <th>p1</th>\n",
       "    </tr>\n",
       "  </thead>\n",
       "  <tbody>\n",
       "    <tr>\n",
       "      <th>Product A</th>\n",
       "      <td>Awsome!</td>\n",
       "      <td>Pretty good.</td>\n",
       "      <td>I liked it.</td>\n",
       "    </tr>\n",
       "    <tr>\n",
       "      <th>Product B</th>\n",
       "      <td>Just so so.</td>\n",
       "      <td>Bland.</td>\n",
       "      <td>It was awful.</td>\n",
       "    </tr>\n",
       "  </tbody>\n",
       "</table>\n",
       "</div>"
      ],
      "text/plain": [
       "                    p3            p2             p1\n",
       "Product A      Awsome!  Pretty good.    I liked it.\n",
       "Product B  Just so so.        Bland.  It was awful."
      ]
     },
     "execution_count": 9,
     "metadata": {},
     "output_type": "execute_result"
    }
   ],
   "source": [
    "order = ['p3','p2','p1']\n",
    "intro[order]"
   ]
  },
  {
   "cell_type": "markdown",
   "id": "59e98ddf",
   "metadata": {},
   "source": [
    "DataFrame的查找"
   ]
  },
  {
   "cell_type": "markdown",
   "id": "77b9c112",
   "metadata": {},
   "source": [
    "对于很长的DataFrame，我们可以使用head函数或者是tail函数来返回其五行或者最后五行"
   ]
  },
  {
   "cell_type": "code",
   "execution_count": 10,
   "id": "0dd9fbdd",
   "metadata": {
    "scrolled": true
   },
   "outputs": [
    {
     "data": {
      "text/html": [
       "<div>\n",
       "<style scoped>\n",
       "    .dataframe tbody tr th:only-of-type {\n",
       "        vertical-align: middle;\n",
       "    }\n",
       "\n",
       "    .dataframe tbody tr th {\n",
       "        vertical-align: top;\n",
       "    }\n",
       "\n",
       "    .dataframe thead th {\n",
       "        text-align: right;\n",
       "    }\n",
       "</style>\n",
       "<table border=\"1\" class=\"dataframe\">\n",
       "  <thead>\n",
       "    <tr style=\"text-align: right;\">\n",
       "      <th></th>\n",
       "      <th>state</th>\n",
       "      <th>year</th>\n",
       "      <th>pop</th>\n",
       "    </tr>\n",
       "  </thead>\n",
       "  <tbody>\n",
       "    <tr>\n",
       "      <th>0</th>\n",
       "      <td>Ohio</td>\n",
       "      <td>2000</td>\n",
       "      <td>1.5</td>\n",
       "    </tr>\n",
       "    <tr>\n",
       "      <th>1</th>\n",
       "      <td>Ohio</td>\n",
       "      <td>2001</td>\n",
       "      <td>1.7</td>\n",
       "    </tr>\n",
       "    <tr>\n",
       "      <th>2</th>\n",
       "      <td>Ohio</td>\n",
       "      <td>2002</td>\n",
       "      <td>3.6</td>\n",
       "    </tr>\n",
       "    <tr>\n",
       "      <th>3</th>\n",
       "      <td>Nevada</td>\n",
       "      <td>2001</td>\n",
       "      <td>2.4</td>\n",
       "    </tr>\n",
       "    <tr>\n",
       "      <th>4</th>\n",
       "      <td>Nevada</td>\n",
       "      <td>2002</td>\n",
       "      <td>2.9</td>\n",
       "    </tr>\n",
       "  </tbody>\n",
       "</table>\n",
       "</div>"
      ],
      "text/plain": [
       "    state  year  pop\n",
       "0    Ohio  2000  1.5\n",
       "1    Ohio  2001  1.7\n",
       "2    Ohio  2002  3.6\n",
       "3  Nevada  2001  2.4\n",
       "4  Nevada  2002  2.9"
      ]
     },
     "execution_count": 10,
     "metadata": {},
     "output_type": "execute_result"
    }
   ],
   "source": [
    "frame.head()"
   ]
  },
  {
   "cell_type": "code",
   "execution_count": 11,
   "id": "479676e7",
   "metadata": {},
   "outputs": [
    {
     "data": {
      "text/html": [
       "<div>\n",
       "<style scoped>\n",
       "    .dataframe tbody tr th:only-of-type {\n",
       "        vertical-align: middle;\n",
       "    }\n",
       "\n",
       "    .dataframe tbody tr th {\n",
       "        vertical-align: top;\n",
       "    }\n",
       "\n",
       "    .dataframe thead th {\n",
       "        text-align: right;\n",
       "    }\n",
       "</style>\n",
       "<table border=\"1\" class=\"dataframe\">\n",
       "  <thead>\n",
       "    <tr style=\"text-align: right;\">\n",
       "      <th></th>\n",
       "      <th>state</th>\n",
       "      <th>year</th>\n",
       "      <th>pop</th>\n",
       "    </tr>\n",
       "  </thead>\n",
       "  <tbody>\n",
       "    <tr>\n",
       "      <th>1</th>\n",
       "      <td>Ohio</td>\n",
       "      <td>2001</td>\n",
       "      <td>1.7</td>\n",
       "    </tr>\n",
       "    <tr>\n",
       "      <th>2</th>\n",
       "      <td>Ohio</td>\n",
       "      <td>2002</td>\n",
       "      <td>3.6</td>\n",
       "    </tr>\n",
       "    <tr>\n",
       "      <th>3</th>\n",
       "      <td>Nevada</td>\n",
       "      <td>2001</td>\n",
       "      <td>2.4</td>\n",
       "    </tr>\n",
       "    <tr>\n",
       "      <th>4</th>\n",
       "      <td>Nevada</td>\n",
       "      <td>2002</td>\n",
       "      <td>2.9</td>\n",
       "    </tr>\n",
       "    <tr>\n",
       "      <th>5</th>\n",
       "      <td>Nevada</td>\n",
       "      <td>2003</td>\n",
       "      <td>3.2</td>\n",
       "    </tr>\n",
       "  </tbody>\n",
       "</table>\n",
       "</div>"
      ],
      "text/plain": [
       "    state  year  pop\n",
       "1    Ohio  2001  1.7\n",
       "2    Ohio  2002  3.6\n",
       "3  Nevada  2001  2.4\n",
       "4  Nevada  2002  2.9\n",
       "5  Nevada  2003  3.2"
      ]
     },
     "execution_count": 11,
     "metadata": {},
     "output_type": "execute_result"
    }
   ],
   "source": [
    "frame.tail()"
   ]
  },
  {
   "cell_type": "markdown",
   "id": "c302f72e",
   "metadata": {},
   "source": [
    "查找某个具体的一列(两种方法)"
   ]
  },
  {
   "cell_type": "code",
   "execution_count": 12,
   "id": "5a8d4f3e",
   "metadata": {},
   "outputs": [
    {
     "data": {
      "text/plain": [
       "0    2000\n",
       "1    2001\n",
       "2    2002\n",
       "3    2001\n",
       "4    2002\n",
       "5    2003\n",
       "Name: year, dtype: int64"
      ]
     },
     "execution_count": 12,
     "metadata": {},
     "output_type": "execute_result"
    }
   ],
   "source": [
    "frame.year"
   ]
  },
  {
   "cell_type": "code",
   "execution_count": 13,
   "id": "0135a89f",
   "metadata": {},
   "outputs": [
    {
     "data": {
      "text/plain": [
       "0    2000\n",
       "1    2001\n",
       "2    2002\n",
       "3    2001\n",
       "4    2002\n",
       "5    2003\n",
       "Name: year, dtype: int64"
      ]
     },
     "execution_count": 13,
     "metadata": {},
     "output_type": "execute_result"
    }
   ],
   "source": [
    "frame['year']"
   ]
  },
  {
   "cell_type": "markdown",
   "id": "58ae6229",
   "metadata": {},
   "source": [
    "使用loc函数或者iloc来查找某一行 注意这里用的是方括号不是圆括号"
   ]
  },
  {
   "cell_type": "code",
   "execution_count": 14,
   "id": "dcda9b86",
   "metadata": {},
   "outputs": [
    {
     "data": {
      "text/plain": [
       "state    Ohio\n",
       "year     2001\n",
       "pop       1.7\n",
       "Name: 1, dtype: object"
      ]
     },
     "execution_count": 14,
     "metadata": {},
     "output_type": "execute_result"
    }
   ],
   "source": [
    "frame.loc[1]"
   ]
  },
  {
   "cell_type": "code",
   "execution_count": 15,
   "id": "3fc44127",
   "metadata": {},
   "outputs": [
    {
     "data": {
      "text/plain": [
       "state    Ohio\n",
       "year     2002\n",
       "pop       3.6\n",
       "Name: 2, dtype: object"
      ]
     },
     "execution_count": 15,
     "metadata": {},
     "output_type": "execute_result"
    }
   ],
   "source": [
    "frame.iloc[2]"
   ]
  },
  {
   "cell_type": "markdown",
   "id": "dcb4dfbd",
   "metadata": {},
   "source": [
    "可以通过赋值修改列"
   ]
  },
  {
   "cell_type": "code",
   "execution_count": 16,
   "id": "c6db0da4",
   "metadata": {},
   "outputs": [
    {
     "data": {
      "text/html": [
       "<div>\n",
       "<style scoped>\n",
       "    .dataframe tbody tr th:only-of-type {\n",
       "        vertical-align: middle;\n",
       "    }\n",
       "\n",
       "    .dataframe tbody tr th {\n",
       "        vertical-align: top;\n",
       "    }\n",
       "\n",
       "    .dataframe thead th {\n",
       "        text-align: right;\n",
       "    }\n",
       "</style>\n",
       "<table border=\"1\" class=\"dataframe\">\n",
       "  <thead>\n",
       "    <tr style=\"text-align: right;\">\n",
       "      <th></th>\n",
       "      <th>state</th>\n",
       "      <th>year</th>\n",
       "      <th>pop</th>\n",
       "    </tr>\n",
       "  </thead>\n",
       "  <tbody>\n",
       "    <tr>\n",
       "      <th>0</th>\n",
       "      <td>Ohio</td>\n",
       "      <td>2023</td>\n",
       "      <td>1.5</td>\n",
       "    </tr>\n",
       "    <tr>\n",
       "      <th>1</th>\n",
       "      <td>Ohio</td>\n",
       "      <td>2023</td>\n",
       "      <td>1.7</td>\n",
       "    </tr>\n",
       "    <tr>\n",
       "      <th>2</th>\n",
       "      <td>Ohio</td>\n",
       "      <td>2023</td>\n",
       "      <td>3.6</td>\n",
       "    </tr>\n",
       "    <tr>\n",
       "      <th>3</th>\n",
       "      <td>Nevada</td>\n",
       "      <td>2023</td>\n",
       "      <td>2.4</td>\n",
       "    </tr>\n",
       "    <tr>\n",
       "      <th>4</th>\n",
       "      <td>Nevada</td>\n",
       "      <td>2023</td>\n",
       "      <td>2.9</td>\n",
       "    </tr>\n",
       "    <tr>\n",
       "      <th>5</th>\n",
       "      <td>Nevada</td>\n",
       "      <td>2023</td>\n",
       "      <td>3.2</td>\n",
       "    </tr>\n",
       "  </tbody>\n",
       "</table>\n",
       "</div>"
      ],
      "text/plain": [
       "    state  year  pop\n",
       "0    Ohio  2023  1.5\n",
       "1    Ohio  2023  1.7\n",
       "2    Ohio  2023  3.6\n",
       "3  Nevada  2023  2.4\n",
       "4  Nevada  2023  2.9\n",
       "5  Nevada  2023  3.2"
      ]
     },
     "execution_count": 16,
     "metadata": {},
     "output_type": "execute_result"
    }
   ],
   "source": [
    "frame[\"year\"] = 2023\n",
    "frame"
   ]
  },
  {
   "cell_type": "markdown",
   "id": "49328da1",
   "metadata": {},
   "source": [
    "增加列"
   ]
  },
  {
   "cell_type": "code",
   "execution_count": 17,
   "id": "5f28619f",
   "metadata": {},
   "outputs": [
    {
     "data": {
      "text/html": [
       "<div>\n",
       "<style scoped>\n",
       "    .dataframe tbody tr th:only-of-type {\n",
       "        vertical-align: middle;\n",
       "    }\n",
       "\n",
       "    .dataframe tbody tr th {\n",
       "        vertical-align: top;\n",
       "    }\n",
       "\n",
       "    .dataframe thead th {\n",
       "        text-align: right;\n",
       "    }\n",
       "</style>\n",
       "<table border=\"1\" class=\"dataframe\">\n",
       "  <thead>\n",
       "    <tr style=\"text-align: right;\">\n",
       "      <th></th>\n",
       "      <th>state</th>\n",
       "      <th>year</th>\n",
       "      <th>pop</th>\n",
       "      <th>eastern</th>\n",
       "    </tr>\n",
       "  </thead>\n",
       "  <tbody>\n",
       "    <tr>\n",
       "      <th>0</th>\n",
       "      <td>Ohio</td>\n",
       "      <td>2023</td>\n",
       "      <td>1.5</td>\n",
       "      <td>True</td>\n",
       "    </tr>\n",
       "    <tr>\n",
       "      <th>1</th>\n",
       "      <td>Ohio</td>\n",
       "      <td>2023</td>\n",
       "      <td>1.7</td>\n",
       "      <td>True</td>\n",
       "    </tr>\n",
       "    <tr>\n",
       "      <th>2</th>\n",
       "      <td>Ohio</td>\n",
       "      <td>2023</td>\n",
       "      <td>3.6</td>\n",
       "      <td>True</td>\n",
       "    </tr>\n",
       "    <tr>\n",
       "      <th>3</th>\n",
       "      <td>Nevada</td>\n",
       "      <td>2023</td>\n",
       "      <td>2.4</td>\n",
       "      <td>False</td>\n",
       "    </tr>\n",
       "    <tr>\n",
       "      <th>4</th>\n",
       "      <td>Nevada</td>\n",
       "      <td>2023</td>\n",
       "      <td>2.9</td>\n",
       "      <td>False</td>\n",
       "    </tr>\n",
       "    <tr>\n",
       "      <th>5</th>\n",
       "      <td>Nevada</td>\n",
       "      <td>2023</td>\n",
       "      <td>3.2</td>\n",
       "      <td>False</td>\n",
       "    </tr>\n",
       "  </tbody>\n",
       "</table>\n",
       "</div>"
      ],
      "text/plain": [
       "    state  year  pop  eastern\n",
       "0    Ohio  2023  1.5     True\n",
       "1    Ohio  2023  1.7     True\n",
       "2    Ohio  2023  3.6     True\n",
       "3  Nevada  2023  2.4    False\n",
       "4  Nevada  2023  2.9    False\n",
       "5  Nevada  2023  3.2    False"
      ]
     },
     "execution_count": 17,
     "metadata": {},
     "output_type": "execute_result"
    }
   ],
   "source": [
    "frame[\"eastern\"] = frame[\"state\"] == \"Ohio\"#出现不存在的索引时，会自动添加这一列\n",
    "frame"
   ]
  },
  {
   "cell_type": "markdown",
   "id": "52f2052a",
   "metadata": {},
   "source": [
    "移除列（del函数）"
   ]
  },
  {
   "cell_type": "code",
   "execution_count": 18,
   "id": "3e506664",
   "metadata": {},
   "outputs": [
    {
     "name": "stdout",
     "output_type": "stream",
     "text": [
      "Index(['state', 'year', 'pop', 'eastern'], dtype='object')\n"
     ]
    },
    {
     "data": {
      "text/html": [
       "<div>\n",
       "<style scoped>\n",
       "    .dataframe tbody tr th:only-of-type {\n",
       "        vertical-align: middle;\n",
       "    }\n",
       "\n",
       "    .dataframe tbody tr th {\n",
       "        vertical-align: top;\n",
       "    }\n",
       "\n",
       "    .dataframe thead th {\n",
       "        text-align: right;\n",
       "    }\n",
       "</style>\n",
       "<table border=\"1\" class=\"dataframe\">\n",
       "  <thead>\n",
       "    <tr style=\"text-align: right;\">\n",
       "      <th></th>\n",
       "      <th>state</th>\n",
       "      <th>year</th>\n",
       "      <th>pop</th>\n",
       "    </tr>\n",
       "  </thead>\n",
       "  <tbody>\n",
       "    <tr>\n",
       "      <th>0</th>\n",
       "      <td>Ohio</td>\n",
       "      <td>2023</td>\n",
       "      <td>1.5</td>\n",
       "    </tr>\n",
       "    <tr>\n",
       "      <th>1</th>\n",
       "      <td>Ohio</td>\n",
       "      <td>2023</td>\n",
       "      <td>1.7</td>\n",
       "    </tr>\n",
       "    <tr>\n",
       "      <th>2</th>\n",
       "      <td>Ohio</td>\n",
       "      <td>2023</td>\n",
       "      <td>3.6</td>\n",
       "    </tr>\n",
       "    <tr>\n",
       "      <th>3</th>\n",
       "      <td>Nevada</td>\n",
       "      <td>2023</td>\n",
       "      <td>2.4</td>\n",
       "    </tr>\n",
       "    <tr>\n",
       "      <th>4</th>\n",
       "      <td>Nevada</td>\n",
       "      <td>2023</td>\n",
       "      <td>2.9</td>\n",
       "    </tr>\n",
       "    <tr>\n",
       "      <th>5</th>\n",
       "      <td>Nevada</td>\n",
       "      <td>2023</td>\n",
       "      <td>3.2</td>\n",
       "    </tr>\n",
       "  </tbody>\n",
       "</table>\n",
       "</div>"
      ],
      "text/plain": [
       "    state  year  pop\n",
       "0    Ohio  2023  1.5\n",
       "1    Ohio  2023  1.7\n",
       "2    Ohio  2023  3.6\n",
       "3  Nevada  2023  2.4\n",
       "4  Nevada  2023  2.9\n",
       "5  Nevada  2023  3.2"
      ]
     },
     "execution_count": 18,
     "metadata": {},
     "output_type": "execute_result"
    }
   ],
   "source": [
    "print(frame.columns)\n",
    "del frame['eastern']\n",
    "frame"
   ]
  },
  {
   "cell_type": "markdown",
   "id": "c861eaec",
   "metadata": {},
   "source": [
    "# Series:列表"
   ]
  },
  {
   "cell_type": "markdown",
   "id": "e9c59f5f",
   "metadata": {},
   "source": [
    "相比之下，Series 是一个数据值序列。如果 DataFrame 是表，则 Series 是列。事实上，你只需要一个列表就可以创建一个Series。"
   ]
  },
  {
   "cell_type": "code",
   "execution_count": 19,
   "id": "34d53102",
   "metadata": {},
   "outputs": [
    {
     "data": {
      "text/plain": [
       "0         apple\n",
       "1        banana\n",
       "2          pear\n",
       "3        grapes\n",
       "4    Strawberry\n",
       "dtype: object"
      ]
     },
     "execution_count": 19,
     "metadata": {},
     "output_type": "execute_result"
    }
   ],
   "source": [
    "fruit = pd.Series(['apple', 'banana', 'pear', 'grapes', 'Strawberry'])\n",
    "fruit"
   ]
  },
  {
   "cell_type": "markdown",
   "id": "24c6c22b",
   "metadata": {},
   "source": [
    "查看Series的索引起始、结束和步长"
   ]
  },
  {
   "cell_type": "code",
   "execution_count": 20,
   "id": "c7b044de",
   "metadata": {},
   "outputs": [
    {
     "data": {
      "text/plain": [
       "RangeIndex(start=0, stop=5, step=1)"
      ]
     },
     "execution_count": 20,
     "metadata": {},
     "output_type": "execute_result"
    }
   ],
   "source": [
    "fruit.index"
   ]
  },
  {
   "cell_type": "markdown",
   "id": "96c99162",
   "metadata": {},
   "source": [
    "查看Series的列表元素和长度以及数据类型"
   ]
  },
  {
   "cell_type": "code",
   "execution_count": 21,
   "id": "99617e62",
   "metadata": {},
   "outputs": [
    {
     "data": {
      "text/plain": [
       "<PandasArray>\n",
       "['apple', 'banana', 'pear', 'grapes', 'Strawberry']\n",
       "Length: 5, dtype: object"
      ]
     },
     "execution_count": 21,
     "metadata": {},
     "output_type": "execute_result"
    }
   ],
   "source": [
    "fruit.array"
   ]
  },
  {
   "cell_type": "code",
   "execution_count": 22,
   "id": "8f08902b",
   "metadata": {},
   "outputs": [
    {
     "data": {
      "text/plain": [
       "<PandasArray>\n",
       "[1, 2, 3, 4, 5]\n",
       "Length: 5, dtype: int64"
      ]
     },
     "execution_count": 22,
     "metadata": {},
     "output_type": "execute_result"
    }
   ],
   "source": [
    "number = pd.Series([1,2,3,4,5])\n",
    "number.array"
   ]
  },
  {
   "cell_type": "markdown",
   "id": "d0c0b479",
   "metadata": {},
   "source": [
    "自定义索引名和列表名"
   ]
  },
  {
   "cell_type": "code",
   "execution_count": 23,
   "id": "505f4855",
   "metadata": {},
   "outputs": [
    {
     "data": {
      "text/plain": [
       "Mike         Banana\n",
       "Jane     Watermelon\n",
       "Peter         Lemon\n",
       "dtype: object"
      ]
     },
     "execution_count": 23,
     "metadata": {},
     "output_type": "execute_result"
    }
   ],
   "source": [
    "lovefruit = pd.Series(['Banana', 'Watermelon', 'Lemon'], index=['Mike', 'Jane', 'Peter'])\n",
    "lovefruit"
   ]
  },
  {
   "cell_type": "markdown",
   "id": "e724fef3",
   "metadata": {},
   "source": [
    "Series的索引，通过索引（index）来找出对应的值"
   ]
  },
  {
   "cell_type": "code",
   "execution_count": 24,
   "id": "ac9a12d4",
   "metadata": {
    "scrolled": true
   },
   "outputs": [
    {
     "data": {
      "text/plain": [
       "'Banana'"
      ]
     },
     "execution_count": 24,
     "metadata": {},
     "output_type": "execute_result"
    }
   ],
   "source": [
    "lovefruit['Mike']"
   ]
  },
  {
   "cell_type": "code",
   "execution_count": 25,
   "id": "4fa6c2fa",
   "metadata": {},
   "outputs": [
    {
     "data": {
      "text/plain": [
       "Mike         Banana\n",
       "Jane     Watermelon\n",
       "Peter         Lemon\n",
       "dtype: object"
      ]
     },
     "execution_count": 25,
     "metadata": {},
     "output_type": "execute_result"
    }
   ],
   "source": [
    "lovefruit[['Mike', 'Jane', 'Peter']]"
   ]
  },
  {
   "cell_type": "markdown",
   "id": "87fae5ab",
   "metadata": {},
   "source": [
    "我们来创建一个以int为数据类型的Series，来讲讲运算。"
   ]
  },
  {
   "cell_type": "code",
   "execution_count": 26,
   "id": "4d84425b",
   "metadata": {},
   "outputs": [
    {
     "data": {
      "text/plain": [
       "a    4\n",
       "b    7\n",
       "c    5\n",
       "d   -4\n",
       "e    0\n",
       "dtype: int64"
      ]
     },
     "execution_count": 26,
     "metadata": {},
     "output_type": "execute_result"
    }
   ],
   "source": [
    "obj = pd.Series([4,7,5,-4,0],index = ['a','b','c','d','e'])\n",
    "obj"
   ]
  },
  {
   "cell_type": "markdown",
   "id": "dbb94ac4",
   "metadata": {},
   "source": [
    "找出大于0的元素（查）"
   ]
  },
  {
   "cell_type": "code",
   "execution_count": 27,
   "id": "6c3b5da9",
   "metadata": {},
   "outputs": [
    {
     "data": {
      "text/plain": [
       "a    4\n",
       "b    7\n",
       "c    5\n",
       "dtype: int64"
      ]
     },
     "execution_count": 27,
     "metadata": {},
     "output_type": "execute_result"
    }
   ],
   "source": [
    "obj[obj>0]"
   ]
  },
  {
   "cell_type": "markdown",
   "id": "3d6608b8",
   "metadata": {},
   "source": [
    "以此类推，可以找出obj内的偶数、奇数、不为0的数...等等..."
   ]
  },
  {
   "cell_type": "code",
   "execution_count": 28,
   "id": "25107f36",
   "metadata": {},
   "outputs": [
    {
     "name": "stdout",
     "output_type": "stream",
     "text": [
      "a    4\n",
      "d   -4\n",
      "e    0\n",
      "dtype: int64\n",
      "a    4\n",
      "b    7\n",
      "c    5\n",
      "d   -4\n",
      "dtype: int64\n"
     ]
    }
   ],
   "source": [
    "print(obj[obj%2==0])\n",
    "print(obj[obj!=0])"
   ]
  },
  {
   "cell_type": "markdown",
   "id": "cf7c5965",
   "metadata": {},
   "source": [
    "对Series内部的数据进行运算"
   ]
  },
  {
   "cell_type": "code",
   "execution_count": 29,
   "id": "14445168",
   "metadata": {},
   "outputs": [
    {
     "data": {
      "text/plain": [
       "a     8\n",
       "b    14\n",
       "c    10\n",
       "d    -8\n",
       "e     0\n",
       "dtype: int64"
      ]
     },
     "execution_count": 29,
     "metadata": {},
     "output_type": "execute_result"
    }
   ],
   "source": [
    "obj = obj * 2\n",
    "obj"
   ]
  },
  {
   "cell_type": "markdown",
   "id": "c52da384",
   "metadata": {},
   "source": [
    "两个不同的列表相加：(索引相同)"
   ]
  },
  {
   "cell_type": "code",
   "execution_count": 30,
   "id": "f9d83fc4",
   "metadata": {},
   "outputs": [],
   "source": [
    "obj1 = pd.Series([0.3,7.2,-1,0,6],index = ['a','b','c','d','e'])"
   ]
  },
  {
   "cell_type": "code",
   "execution_count": 31,
   "id": "aad24246",
   "metadata": {},
   "outputs": [
    {
     "data": {
      "text/plain": [
       "a     8.3\n",
       "b    21.2\n",
       "c     9.0\n",
       "d    -8.0\n",
       "e     6.0\n",
       "dtype: float64"
      ]
     },
     "execution_count": 31,
     "metadata": {},
     "output_type": "execute_result"
    }
   ],
   "source": [
    "obj + obj1"
   ]
  },
  {
   "cell_type": "markdown",
   "id": "8a83c3b6",
   "metadata": {},
   "source": [
    "两个列表相加(索引不同),会对应索引相加，而找不到成对索引的索引会显示NaN"
   ]
  },
  {
   "cell_type": "code",
   "execution_count": 32,
   "id": "d98e3d28",
   "metadata": {},
   "outputs": [
    {
     "data": {
      "text/plain": [
       "a    11.0\n",
       "b    16.0\n",
       "c    11.0\n",
       "d    -4.0\n",
       "e     5.0\n",
       "f     NaN\n",
       "dtype: float64"
      ]
     },
     "execution_count": 32,
     "metadata": {},
     "output_type": "execute_result"
    }
   ],
   "source": [
    "obj2 = pd.Series([1,2,3,4,5,6],index = ['c','b','a','d','e','f'])\n",
    "obj2+obj"
   ]
  }
 ],
 "metadata": {
  "kernelspec": {
   "display_name": "Python 3 (ipykernel)",
   "language": "python",
   "name": "python3"
  },
  "language_info": {
   "codemirror_mode": {
    "name": "ipython",
    "version": 3
   },
   "file_extension": ".py",
   "mimetype": "text/x-python",
   "name": "python",
   "nbconvert_exporter": "python",
   "pygments_lexer": "ipython3",
   "version": "3.10.9"
  }
 },
 "nbformat": 4,
 "nbformat_minor": 5
}
